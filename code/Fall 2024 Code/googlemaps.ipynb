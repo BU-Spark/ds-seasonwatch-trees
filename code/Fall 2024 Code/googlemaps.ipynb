{
 "cells": [
  {
   "cell_type": "code",
   "execution_count": null,
   "metadata": {},
   "outputs": [],
   "source": [
    "import requests\n",
    "import pandas as pd\n",
    "import time\n"
   ]
  },
  {
   "cell_type": "markdown",
   "metadata": {},
   "source": [
    "# Documentation: \n",
    "\n",
    "### **Filling Missing State Names using Google Maps API**\n",
    "\n",
    "**Objective**: fill in missing state names for rows that had valid latitude and longitude coordinates.\n",
    "\n",
    "**Caching Mechanism**: To minimize Google API costs and redundant requests, we implemented a caching mechanism. For each latitude-longitude pair, the state name result was cached. If the same coordinates were encountered again, we used the cached value instead of making another API call.\n",
    "\n",
    "**Error Handling**: We used a `try-except` block to manage network issues and potential errors. If an API request failed, it was gracefully handled and logged to ensure continuity.\n",
    "\n",
    "**Rate Limiting**: Google Maps API has a rate limit, so we introduced a delay of 0.1 seconds between requests to prevent rate limit violations.\n",
    "\n",
    "**Standardization of State Names**: Certain states have multiple valid names (e.g., \"NCT of Delhi\" vs. \"Delhi\"). To ensure consistency, state names were standardized after being fetched.\n"
   ]
  },
  {
   "cell_type": "markdown",
   "metadata": {},
   "source": [
    "# Find State Name "
   ]
  },
  {
   "cell_type": "code",
   "execution_count": null,
   "metadata": {},
   "outputs": [],
   "source": [
    "\n",
    "# Cache to store previous results\n",
    "cache = {}\n",
    "\n",
    "# Function to find the state name using Google Maps API\n",
    "def find_indian_state_google_maps(latitude, longitude, api_key):\n",
    "    \"\"\"\n",
    "    Finds the state name associated with a set of coordinates using Google Maps API\n",
    "    and verifies if the coordinates are within India.\n",
    "\n",
    "    Args:\n",
    "        latitude, longitude (float, float): Latitude and longitude coordinates\n",
    "        api_key (str): Google Maps API key\n",
    "\n",
    "    Returns:\n",
    "        state_name (str): If coordinates are within India, return the state name\n",
    "        None (None): If the coordinates are outside India or no state is found\n",
    "    \"\"\"\n",
    "    \n",
    "    # Check if the coordinates are already cached\n",
    "    if (latitude, longitude) in cache:\n",
    "        return cache[(latitude, longitude)]\n",
    "\n",
    "    # Construct the full URL with latlng and API key in the base URL\n",
    "    base_url = f\"https://maps.googleapis.com/maps/api/geocode/json?latlng={latitude},{longitude}&key={api_key}\"\n",
    "\n",
    "    # Send the request to Google Maps API\n",
    "    try:\n",
    "        response = requests.get(base_url)\n",
    "        response.raise_for_status()  # Raise an exception for HTTP errors\n",
    "    except requests.exceptions.RequestException as e:\n",
    "        print(f\"Request failed: {e}\")\n",
    "        return None\n",
    "\n",
    "    # Parse the JSON response\n",
    "    data = response.json()\n",
    "\n",
    "    # Check if the response is successful and contains results\n",
    "    if response.status_code == 200 and 'results' in data and data['results']:\n",
    "        # Loop through the results to extract the state name and check the country\n",
    "        for result in data['results']:\n",
    "            # Check the address components for country and state\n",
    "            country = None\n",
    "            state_name = None\n",
    "            for component in result['address_components']:\n",
    "                if 'country' in component['types']:\n",
    "                    country = component['long_name']\n",
    "                if 'administrative_area_level_1' in component['types']:\n",
    "                    state_name = component['long_name']\n",
    "            \n",
    "            # If the country is India, return the state name\n",
    "            if country == 'India' and state_name:\n",
    "                cache[(latitude, longitude)] = state_name\n",
    "                return state_name\n",
    "\n",
    "    # Return None if no state or the wrong country is found\n",
    "    return None\n"
   ]
  },
  {
   "cell_type": "markdown",
   "metadata": {},
   "source": [
    "# Fill in Missing State names"
   ]
  },
  {
   "cell_type": "code",
   "execution_count": null,
   "metadata": {},
   "outputs": [],
   "source": [
    "# Function to fill in missing state names in the DataFrame\n",
    "def fill_missing_state_names(df, api_key):\n",
    "    start_time = time.time()  # Measure the time taken\n",
    "    counter = 0  # Number of observations checked so far\n",
    "\n",
    "    # Subset: observations with all data except State_name, and drop those with missing lat/long\n",
    "    observations_missing_state_name = df[df[\"State_name\"].isna()].drop(['State_name'], axis=1).dropna(subset=['Lat', 'Long'])\n",
    "\n",
    "    # Iterate over observations missing a state name\n",
    "    for idx, row in observations_missing_state_name.iterrows():\n",
    "        if (counter % 1000) == 0:  # Report time every 1000 observations\n",
    "            print(f\"{counter}: {time.time() - start_time} seconds elapsed; {counter / len(observations_missing_state_name) * 100:.2f}% Done\")\n",
    "\n",
    "        # Call the Google Maps API function to find the state name based on coordinates\n",
    "        state_name = find_indian_state_google_maps(row[\"Lat\"], row[\"Long\"], api_key)\n",
    "\n",
    "        if state_name:  # Update the state name if found\n",
    "            df.at[idx, \"State_name\"] = state_name\n",
    "\n",
    "        counter += 1\n",
    "        time.sleep(0.1)  # Adding delay to prevent rate limit issues\n",
    "\n",
    "    # Standardize the state names with known variations\n",
    "    df['State_name'] = df['State_name'].replace({\n",
    "        'Andaman and Nicobar': 'Andaman and Nicobar Islands',\n",
    "        'NCT of Delhi': 'Delhi'\n",
    "    })\n",
    "\n",
    "    print(f\"Finished in {time.time() - start_time} seconds\")\n",
    "\n"
   ]
  },
  {
   "cell_type": "code",
   "execution_count": null,
   "metadata": {},
   "outputs": [],
   "source": [
    "\n",
    "# Load the data\n",
    "df = pd.read_csv(\"alldata.csv\")\n",
    "\n",
    "# Replace with your actual API key\n",
    "api_key = 'USE YOUR API KEY'\n",
    "\n",
    "# Test Google Maps API function\n",
    "state = find_indian_state_google_maps(11.62616, 75.57842, api_key)\n",
    "print(\"Detected State:\", state)\n",
    "\n",
    "# Fill in the missing state names in the dataset\n",
    "fill_missing_state_names(df, api_key)\n",
    "\n",
    "# Save the updated dataframe to a CSV file (optional)\n",
    "df.to_csv(\"alldata_updated.csv\", index=False)"
   ]
  }
 ],
 "metadata": {
  "kernelspec": {
   "display_name": "Python 3",
   "language": "python",
   "name": "python3"
  },
  "language_info": {
   "codemirror_mode": {
    "name": "ipython",
    "version": 3
   },
   "file_extension": ".py",
   "mimetype": "text/x-python",
   "name": "python",
   "nbconvert_exporter": "python",
   "pygments_lexer": "ipython3",
   "version": "3.9.12"
  }
 },
 "nbformat": 4,
 "nbformat_minor": 2
}

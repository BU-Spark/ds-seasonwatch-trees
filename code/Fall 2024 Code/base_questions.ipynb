{
 "cells": [
  {
   "cell_type": "code",
   "execution_count": null,
   "metadata": {},
   "outputs": [],
   "source": []
  },
  {
   "cell_type": "markdown",
   "metadata": {},
   "source": [
    "How are trees changing because of climate change?\n",
    "\n",
    "How fast do trees change in response to changing seasons? What is the onset time for flowering and fruiting in tropical species? \n",
    "\n",
    "What is the probability of transition from one seasonal state of a tree to another? [going from ‘none’ or 0 state to ‘few/many’ or 1/2 state]\n"
   ]
  },
  {
   "cell_type": "markdown",
   "metadata": {},
   "source": []
  }
 ],
 "metadata": {
  "language_info": {
   "name": "python"
  }
 },
 "nbformat": 4,
 "nbformat_minor": 2
}

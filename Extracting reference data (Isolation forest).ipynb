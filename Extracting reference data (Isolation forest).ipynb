{
 "cells": [
  {
   "cell_type": "markdown",
   "id": "5d28e72a",
   "metadata": {},
   "source": [
    "# Imports"
   ]
  },
  {
   "cell_type": "code",
   "execution_count": 1,
   "id": "f61e38a1",
   "metadata": {},
   "outputs": [],
   "source": [
    "import os\n",
    "import numpy as np\n",
    "import pandas as pd\n",
    "import matplotlib.pyplot as plt\n",
    "from sklearn.ensemble import IsolationForest\n",
    "from sklearn.cluster import KMeans"
   ]
  },
  {
   "cell_type": "markdown",
   "id": "1b57fe65",
   "metadata": {},
   "source": [
    "# Selecting New Reference Data With Isolation Forests"
   ]
  },
  {
   "cell_type": "code",
   "execution_count": 2,
   "id": "b4aac593",
   "metadata": {},
   "outputs": [],
   "source": [
    "def select_reference_data(state, species, year):\n",
    "    \n",
    "    df = pd.read_csv(f\"all data/citizen/{state}.csv\")\n",
    "    df = df[df[\"Species_name\"] == species]\n",
    "    df = df[df[\"Year\"] == int(year)]\n",
    "    df = df.drop([\"Date_of_observation\", \"Observation_ID\", \"User_id\", \"User_Tree_id\", \"Species_id\", \"State_name\", \"Species_name\", \"Year\"], axis=1)\n",
    "    df = df.reset_index(drop=True)\n",
    "    \n",
    "    model = IsolationForest(n_estimators = 500, verbose = 1, random_state = 42)\n",
    "    \n",
    "    new_ref_dict = {} # Saves closest citizen observations to centroids.\n",
    "    cent = {} # Saves cluster centers of each week for future use\n",
    "    \n",
    "    for week in df[\"Week\"].sort_values().unique():\n",
    "        \n",
    "        # Isolation Forests\n",
    "        \n",
    "        week_df = df[df[\"Week\"] == week]\n",
    "        week_df = week_df.drop(\"Week\", axis=1)\n",
    "        week_df = week_df.reset_index(drop=True)\n",
    "        \n",
    "        model.fit(week_df)\n",
    "        preds = model.predict(week_df)\n",
    "\n",
    "        week_df[\"Predictions\"] = preds\n",
    "\n",
    "        valid_data = week_df[week_df[\"Predictions\"] == 1]\n",
    "        valid_data = valid_data.reset_index(drop=True)\n",
    "        \n",
    "        # Clustering\n",
    "\n",
    "        km = KMeans(n_clusters=1, random_state=42, n_init=\"auto\")\n",
    "        clusters = km.fit_predict(valid_data)\n",
    "        centroids = km.cluster_centers_\n",
    "        distances = []\n",
    "        \n",
    "        for i, row in valid_data.iterrows():\n",
    "            cluster_label = clusters[i]\n",
    "            centroid = centroids[0]\n",
    "            relevant_values = row.values\n",
    "            float_centroid = [float(val) for val in centroid]\n",
    "            distance = np.linalg.norm(relevant_values - float_centroid)\n",
    "            distances.append(distance)\n",
    "            \n",
    "        valid_data['Distance_to_Centroid'] = distances\n",
    "        closest_point = valid_data[ valid_data[\"Distance_to_Centroid\"] == min(valid_data['Distance_to_Centroid']) ]\n",
    "        cent[week] = km.cluster_centers_\n",
    "        new_ref_dict[week] = closest_point.iloc[0] # Adding citizen observation closest to centroid to new reference data dictionary for the associated week\n",
    "        \n",
    "    # Reformatting new reference data dictionary to be returned as a dataframe matching style of reference data\n",
    "    new_ref_df = pd.DataFrame(new_ref_dict).T.sort_index()\n",
    "    new_ref_df.insert(0,\"Week\",new_ref_df.index)\n",
    "    return new_ref_df"
   ]
  },
  {
   "cell_type": "markdown",
   "id": "a05743c1",
   "metadata": {},
   "source": [
    "# Plotting Selected Reference Data for Each Phenophase"
   ]
  },
  {
   "cell_type": "code",
   "execution_count": 3,
   "id": "12ee61e9",
   "metadata": {},
   "outputs": [],
   "source": [
    "plot_path = \"plots/selected_reference_data_isolation_forests\"\n",
    "#states = [state.replace('.csv','') for state in os.listdir(\"all data/citizen\")]\n",
    "states = ['kerala']\n",
    "for state in states:\n",
    "    #species_in_state = pd.read_csv(f\"all data/citizen/{state}.csv\")['Species_name'].unique()\n",
    "    species_in_state = pd.read_csv(f\"all data/citizen/{state}.csv\")['Species_name'].value_counts().index[:10] # Top 10 prevalent species within that state\n",
    "    for species in species_in_state:\n",
    "        \n",
    "        year = 2023 # !!! Do some stuff with years here (e.g. iterating over years and finding medin) !!!\n",
    "        \n",
    "        species_ref_df = select_reference_data(state, species, year)\n",
    "        \n",
    "        os.makedirs(f\"{plot_path}/{state}/{species.replace(' ', '').replace('.', '').lower()}\", exist_ok=True)\n",
    "        \n",
    "        phenophases = ['Leaves_fresh','Leaves_mature','Leaves_old','Flowers_bud','Flowers_open',\n",
    "                       'Flowers_male','Flowers_Female','Fruits_unripe','Fruits_ripe','Fruits_open']\n",
    "        for phenophase in phenophases:\n",
    "            x = species_ref_df['Week']\n",
    "            y = species_ref_df[phenophase]\n",
    "            \n",
    "            plt.plot(x, y, label=f'Selected citizen observation (selected reference data)')\n",
    "            plt.xlabel('Week of the year (0-47)')\n",
    "            plt.ylabel(f'{phenophase} value')\n",
    "            plt.ylim(-2.2,2.2)\n",
    "            plt.title(f'Annual {phenophase} reference data for {species} in {state}', fontsize=8)\n",
    "            plt.legend()\n",
    "            #plt.show()\n",
    "            plt.savefig(f\"{plot_path}/{state}/{species.replace(' ', '').replace('.', '').lower()}/{phenophase}_{year}\")\n",
    "            plt.close()"
   ]
  }
 ],
 "metadata": {
  "kernelspec": {
   "display_name": "Python 3 (ipykernel)",
   "language": "python",
   "name": "python3"
  },
  "language_info": {
   "codemirror_mode": {
    "name": "ipython",
    "version": 3
   },
   "file_extension": ".py",
   "mimetype": "text/x-python",
   "name": "python",
   "nbconvert_exporter": "python",
   "pygments_lexer": "ipython3",
   "version": "3.12.2"
  }
 },
 "nbformat": 4,
 "nbformat_minor": 5
}

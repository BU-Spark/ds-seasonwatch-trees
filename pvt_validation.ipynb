{
 "cells": [
  {
   "cell_type": "code",
   "execution_count": 1,
   "id": "6fbc0d4d-fc37-4222-92bb-c473a97bd844",
   "metadata": {},
   "outputs": [],
   "source": [
    "import pandas as pd\n",
    "import os\n",
    "import math"
   ]
  },
  {
   "cell_type": "code",
   "execution_count": 42,
   "id": "c3bbc7a8-afde-4707-80a9-7dcee057b1be",
   "metadata": {},
   "outputs": [
    {
     "name": "stdout",
     "output_type": "stream",
     "text": [
      "                         state species_id all_same\n",
      "1  andaman_and_nicobar_islands       1146     True\n",
      "2  andaman_and_nicobar_islands       1231     True\n"
     ]
    }
   ],
   "source": [
    "# Check for duplicates in pvt tables\n",
    "df = pd.read_csv('pvttables_raw/pvt_andaman_and_nicobar_islands.csv', sep=';')\n",
    "\n",
    "def get_duplicates_df(df, statename):\n",
    "    duplicates_df = pd.DataFrame({'state': [], 'species_id': [], 'all_same': []})\n",
    "    for species_id in list(df['species_id']):\n",
    "        df_filtered = df[df['species_id'] == species_id]\n",
    "        if len(df_filtered) > 1:\n",
    "            # see if categorical vectors are all the same:\n",
    "            all_equal = True\n",
    "            for colname in df.columns[3:-2]:\n",
    "                all_equal = all_equal and df_filtered[colname].nunique() == 1\n",
    "            if not species_id in list(duplicates_df['species_id']):\n",
    "                duplicates_df.loc[len(duplicates_df) + 1] = pd.Series({'state': statename, 'species_id': species_id, 'all_same': all_equal})\n",
    "    return duplicates_df\n",
    "\n",
    "print(get_duplicates_df(df, 'andaman_and_nicobar_islands'))"
   ]
  },
  {
   "cell_type": "code",
   "execution_count": 43,
   "id": "c4b65513-11ca-4677-88f4-73cb080116af",
   "metadata": {},
   "outputs": [
    {
     "name": "stdout",
     "output_type": "stream",
     "text": [
      "getting duplicates in pvt_andaman_and_nicobar_islands.csv\n",
      "getting duplicates in pvt_rajasthan.csv\n",
      "getting duplicates in pvt_arunachal_pradesh.csv\n",
      "getting duplicates in pvt_madhya_pradesh.csv\n",
      "getting duplicates in pvt_assam.csv\n",
      "getting duplicates in pvt_jharkhand.csv\n",
      "getting duplicates in pvt_maharastra.csv\n",
      "getting duplicates in pvt_karnataka.csv\n",
      "getting duplicates in pvt_jammu_and_kashmir.csv\n",
      "getting duplicates in pvt_pvt_haryana.csv\n",
      "getting duplicates in pvt_manipur.csv\n",
      "getting duplicates in pvt_delhi.csv\n",
      "getting duplicates in pvt_tripura.csv\n",
      "getting duplicates in pvt_odisha.csv\n",
      "getting duplicates in pvt_tamil_nadu.csv\n",
      "getting duplicates in pvt_gujarat.csv\n",
      "getting duplicates in pvt_andhra_pradesh.csv\n",
      "getting duplicates in pvt_bihar.csv\n",
      "getting duplicates in pvt_kerala.csv\n",
      "getting duplicates in pvt_puducherry.csv\n",
      "getting duplicates in pvt_meghalaya.csv\n",
      "                             state species_id all_same\n",
      "0   pvt_andaman_and_nicobar_island       1146     True\n",
      "1   pvt_andaman_and_nicobar_island       1231     True\n",
      "2                    pvt_rajasthan       1146     True\n",
      "3                    pvt_rajasthan       1231     True\n",
      "4            pvt_arunachal_pradesh       1146     True\n",
      "5            pvt_arunachal_pradesh       1231     True\n",
      "6               pvt_madhya_pradesh       1146     True\n",
      "7               pvt_madhya_pradesh       1231     True\n",
      "8                        pvt_assam       1146     True\n",
      "9                        pvt_assam       1231     True\n",
      "10                   pvt_jharkhand       1146     True\n",
      "11                   pvt_jharkhand       1231     True\n",
      "12                  pvt_maharastra       1146     True\n",
      "13                  pvt_maharastra       1231     True\n",
      "14                   pvt_karnataka       1146     True\n",
      "15                   pvt_karnataka       1231     True\n",
      "16           pvt_jammu_and_kashmir       1146     True\n",
      "17           pvt_jammu_and_kashmir       1231     True\n",
      "18                 pvt_pvt_haryana       1146     True\n",
      "19                 pvt_pvt_haryana       1231     True\n",
      "20                     pvt_manipur       1146     True\n",
      "21                     pvt_manipur       1231     True\n",
      "22                       pvt_delhi       1146     True\n",
      "23                       pvt_delhi       1231     True\n",
      "24                     pvt_tripura       1146     True\n",
      "25                     pvt_tripura       1231     True\n",
      "26                      pvt_odisha       1146     True\n",
      "27                      pvt_odisha       1231     True\n",
      "28                  pvt_tamil_nadu       1146     True\n",
      "29                  pvt_tamil_nadu       1231     True\n",
      "30                     pvt_gujarat       1146     True\n",
      "31                     pvt_gujarat       1231     True\n",
      "32              pvt_andhra_pradesh       1146    False\n",
      "33              pvt_andhra_pradesh       1231    False\n",
      "34                       pvt_bihar       1146     True\n",
      "35                       pvt_bihar       1231     True\n",
      "36                      pvt_kerala       1146     True\n",
      "37                      pvt_kerala       1231     True\n",
      "38                  pvt_puducherry       1146     True\n",
      "39                  pvt_puducherry       1231     True\n",
      "40                   pvt_meghalaya       1146     True\n",
      "41                   pvt_meghalaya       1231     True\n"
     ]
    }
   ],
   "source": [
    "# get df of all duplicate data in pvt tables\n",
    "duplicates_df = pd.DataFrame({'state': [], 'species_id': [], 'all_same': []})\n",
    "for tablename in os.listdir('./pvttables_raw/'):\n",
    "    if tablename == '.DS_Store':\n",
    "        continue\n",
    "    df = pd.read_csv('pvttables_raw/{}'.format(tablename), sep=';')\n",
    "    print(\"getting duplicates in {}\".format(tablename))\n",
    "    duplicates_df = pd.concat([duplicates_df, get_duplicates_df(df, tablename.strip('.csv'))], ignore_index=True)\n",
    "print(duplicates_df)"
   ]
  },
  {
   "cell_type": "code",
   "execution_count": 54,
   "id": "0570b7d3-5194-4445-a5d0-cdd600a4e49d",
   "metadata": {},
   "outputs": [
    {
     "name": "stdout",
     "output_type": "stream",
     "text": [
      "228    NaN\n",
      "230    NaN\n",
      "Name: Dec_wk4, dtype: object\n"
     ]
    }
   ],
   "source": [
    "# weird, pvt_andhra_pradesh has unmatching duplicates\n",
    "pvt_andhra_pradesh_df = pd.read_csv('pvttables_raw/pvt_andhra_pradesh.csv', sep=';')\n",
    "pvt_andhra_pradesh_df_filtered = pvt_andhra_pradesh_df[pvt_andhra_pradesh_df['species_id'] == 1231]\n",
    "for colname in pvt_andhra_pradesh_df.columns[3:-2]:\n",
    "    if pvt_andhra_pradesh_df_filtered[colname].nunique() != 1:\n",
    "        print(pvt_andhra_pradesh_df_filtered[colname])\n",
    "\n",
    "# unmatching duplicates ended up both being nans"
   ]
  },
  {
   "cell_type": "code",
   "execution_count": null,
   "id": "edffaa78-d7da-4fa4-8372-81cb02d10f49",
   "metadata": {},
   "outputs": [],
   "source": []
  }
 ],
 "metadata": {
  "kernelspec": {
   "display_name": "Python 3 (ipykernel)",
   "language": "python",
   "name": "python3"
  },
  "language_info": {
   "codemirror_mode": {
    "name": "ipython",
    "version": 3
   },
   "file_extension": ".py",
   "mimetype": "text/x-python",
   "name": "python",
   "nbconvert_exporter": "python",
   "pygments_lexer": "ipython3",
   "version": "3.10.13"
  }
 },
 "nbformat": 4,
 "nbformat_minor": 5
}

{
 "cells": [
  {
   "cell_type": "code",
   "execution_count": 1,
   "id": "413d432f",
   "metadata": {},
   "outputs": [],
   "source": [
    "import pandas as pd\n",
    "import numpy as np\n",
    "import matplotlib.pyplot as plt\n",
    "import os\n",
    "import regex as re"
   ]
  },
  {
   "cell_type": "code",
   "execution_count": 22,
   "id": "3c49908d",
   "metadata": {},
   "outputs": [],
   "source": [
    "cit_df = pd.read_csv('alldata.csv')\n",
    "cit_df = cit_df[~cit_df['State_name'].isna()] # Small cleaning adjustment\n",
    "cit_df[\"State_name\"] = [state.lower() for state in cit_df[\"State_name\"]] # State names lowercase"
   ]
  },
  {
   "cell_type": "code",
   "execution_count": 30,
   "id": "51ef604d",
   "metadata": {},
   "outputs": [
    {
     "name": "stdout",
     "output_type": "stream",
     "text": [
      "nct of delhi\n",
      "telangana\n",
      "andhra pradesh\n",
      "goa\n",
      "uttarakhand\n",
      "haryana\n",
      "chandigarh\n",
      "andaman and nicobar\n",
      "sikkim\n",
      "madhya pradesh\n",
      "jharkhand\n",
      "himachal pradesh\n",
      "chhattisgarh\n",
      "delhi\n",
      "bihar\n",
      "punjab\n",
      "andaman and nicobar islands\n",
      "dadra and nagar haveli\n",
      "assam\n",
      "kerala\n",
      "puducherry\n",
      "rajasthan\n",
      "gujarat\n",
      "lakshadweep\n",
      "arunachal pradesh\n",
      "jammu and kashmir\n",
      "uttar pradesh\n",
      "manipur\n",
      "meghalaya\n",
      "west bengal\n",
      "karnataka\n",
      "tamil nadu\n",
      "nagaland\n",
      "tripura\n",
      "maharashtra\n",
      "odisha\n"
     ]
    }
   ],
   "source": [
    "for tablename in os.listdir('./citizen_data/'):\n",
    "    if tablename == '.DS_Store':\n",
    "        continue\n",
    "    tablename = tablename.replace('_citizenData.csv','')\n",
    "    tablename = tablename.lower()\n",
    "    print(tablename)"
   ]
  },
  {
   "cell_type": "code",
   "execution_count": 46,
   "id": "949b56c0",
   "metadata": {
    "scrolled": true
   },
   "outputs": [],
   "source": [
    "# cit_states contains each state that appears in the citizen database\n",
    "cit_states = []\n",
    "\"\"\"for state in np.sort(cit_df['State_name'].unique()):\n",
    "    state = state.lower()\n",
    "    cit_states.append(state)\"\"\"\n",
    "# ref_states contains each state that appears in the reference database\n",
    "for tablename in os.listdir('./citizen_data/'):\n",
    "    if tablename == '.DS_Store':\n",
    "        continue\n",
    "    tablename = tablename.replace('_citizenData.csv','')\n",
    "    tablename = tablename.lower()\n",
    "    cit_states.append(tablename)\n",
    "ref_states = []\n",
    "for tablename in os.listdir('./reference_data/'):\n",
    "    if tablename == '.DS_Store':\n",
    "        continue\n",
    "    tablename = tablename.replace('pvt_','')\n",
    "    tablename = tablename.replace('.csv','')\n",
    "    tablename = tablename.replace('_',' ')\n",
    "    tablename = tablename.lower()\n",
    "    ref_states.append(tablename)"
   ]
  },
  {
   "cell_type": "code",
   "execution_count": 47,
   "id": "00f51051",
   "metadata": {},
   "outputs": [
    {
     "data": {
      "text/plain": [
       "True"
      ]
     },
     "execution_count": 47,
     "metadata": {},
     "output_type": "execute_result"
    }
   ],
   "source": [
    "(set(cit_states) & set(ref_states)) == set(ref_states) \n",
    "# Every state in the reference database is in citizen database\n",
    "# Join databases on ref_states."
   ]
  },
  {
   "cell_type": "code",
   "execution_count": null,
   "id": "406eee56",
   "metadata": {},
   "outputs": [],
   "source": [
    "# andaman and nicobar -> andaman and nicobar islands\n",
    "# nct of delhi -> delhi\n",
    "# ref_states missing chandigarh, chhattisgarh, dadra and nagar haveli, goa, punjab, sikkim, telangana, uttar pradesh, uttarakhand, and west bengal"
   ]
  },
  {
   "cell_type": "code",
   "execution_count": 119,
   "id": "4b52dfbc",
   "metadata": {
    "scrolled": true
   },
   "outputs": [],
   "source": [
    "# Combining Andaman and Nicobar Islands and Andaman and Nicobar citizen csv files\n",
    "aani_df = pd.read_csv(\"citizen_data/Andaman and Nicobar Islands_citizenData.csv\")\n",
    "aan_df = pd.read_csv(\"citizen_data/Andaman and Nicobar_citizenData.csv\")\n",
    "pd.concat([aan_df, aani_df],ignore_index=True).to_csv('citizen_data/Andaman and Nicobar Islands_citizenData.csv',index=False)"
   ]
  },
  {
   "cell_type": "code",
   "execution_count": 121,
   "id": "31e62d0f",
   "metadata": {},
   "outputs": [],
   "source": [
    "# Combining Delhi and NCT of Delhi citizen csv files\n",
    "nct_delhi_df = pd.read_csv(\"citizen_data/NCT of Delhi_citizenData.csv\")\n",
    "delhi_df = pd.read_csv(\"citizen_data/Delhi_citizenData.csv\")\n",
    "pd.concat([delhi_df, nct_delhi_df],ignore_index=True).to_csv('citizen_data/Delhi_citizenData.csv')"
   ]
  },
  {
   "cell_type": "code",
   "execution_count": 141,
   "id": "34a418a1",
   "metadata": {},
   "outputs": [],
   "source": [
    "cit_filenames = []\n",
    "for ref_filename in os.listdir('./reference_data/'):\n",
    "    if ref_filename == '.DS_Store':\n",
    "        continue\n",
    "    cit_filename = ref_filename.replace('pvt_','')\n",
    "    cit_filename = cit_filename.replace('_', ' ')\n",
    "    cit_filename = cit_filename.replace('.csv', '_citizenData.csv')\n",
    "    cit_filenames.append(cit_filename)\n",
    "#os.listdir('./reference_data/')[0].replace('pvt_','').replace('_', ' ').replace('.csv', '_citizenData.csv')"
   ]
  },
  {
   "cell_type": "code",
   "execution_count": 142,
   "id": "ee814442",
   "metadata": {},
   "outputs": [],
   "source": [
    "ref_filenames = os.listdir('./reference_data/')\n",
    "if '.DS_Store' in ref_filenames:\n",
    "    ref_filenames.remove('.DS_Store')\n",
    "ref_filenames.sort()\n",
    "cit_filenames.sort()"
   ]
  },
  {
   "cell_type": "code",
   "execution_count": 151,
   "id": "e6ae2226",
   "metadata": {
    "scrolled": true
   },
   "outputs": [],
   "source": [
    "pd.DataFrame(data=zip(ref_filenames,cit_filenames), columns=['reference_filename', 'citizen_filename']).to_csv('db_filenames.csv')"
   ]
  },
  {
   "cell_type": "code",
   "execution_count": 58,
   "id": "51076923",
   "metadata": {},
   "outputs": [],
   "source": [
    "ref_df = pd.read_csv(\"reference_data/pvt_andaman_and_nicobar_islands.csv\")\n",
    "cit_df = pd.read_csv(\"citizen_data/Andaman and Nicobar Islands_citizenData.csv\")"
   ]
  },
  {
   "cell_type": "code",
   "execution_count": null,
   "id": "723dabf2",
   "metadata": {},
   "outputs": [],
   "source": [
    "for state in cit_df['State_name'].unique():\n",
    "    state_cit_df = cit_df[cit_df['State_name'] == state]\n",
    "    state_ref_df = \n",
    "    plt.plot(state_cit_df['week'], )"
   ]
  },
  {
   "cell_type": "code",
   "execution_count": 2,
   "id": "69378fe6",
   "metadata": {},
   "outputs": [],
   "source": [
    "all_df = pd.read_csv(\"updated_alldata.csv\")"
   ]
  },
  {
   "cell_type": "code",
   "execution_count": 3,
   "id": "1e76fb96",
   "metadata": {},
   "outputs": [],
   "source": [
    "kerala_df = pd.read_csv(\"citizen_data/kerala_citizenData.csv\")"
   ]
  },
  {
   "cell_type": "code",
   "execution_count": 176,
   "id": "9e72130d",
   "metadata": {},
   "outputs": [],
   "source": [
    "jack = kerala_df[kerala_df['Species_name'] == 'Jackfruit- Artocarpus heterophyllus']"
   ]
  },
  {
   "cell_type": "code",
   "execution_count": 185,
   "id": "fd7b9ad4",
   "metadata": {},
   "outputs": [
    {
     "data": {
      "text/plain": [
       "Index(['Date_of_observation', 'Species_name', 'Leaves_fresh', 'Leaves_mature',\n",
       "       'Leaves_old', 'Flowers_bud', 'Flowers_open', 'Flowers_male',\n",
       "       'Flowers_Female', 'Fruits_unripe', 'Fruits_ripe', 'Fruits_open', 'Year',\n",
       "       'Week'],\n",
       "      dtype='object')"
      ]
     },
     "execution_count": 185,
     "metadata": {},
     "output_type": "execute_result"
    }
   ],
   "source": [
    "jack.columns"
   ]
  },
  {
   "cell_type": "code",
   "execution_count": 178,
   "id": "86fbe40f",
   "metadata": {},
   "outputs": [
    {
     "data": {
      "text/plain": [
       "153751     2\n",
       "153752    32\n",
       "153753    43\n",
       "153754     7\n",
       "153755    28\n",
       "          ..\n",
       "233482    43\n",
       "233483    22\n",
       "233484    23\n",
       "233485    24\n",
       "233486     0\n",
       "Name: Week, Length: 79736, dtype: int64"
      ]
     },
     "execution_count": 178,
     "metadata": {},
     "output_type": "execute_result"
    }
   ],
   "source": [
    "jack['Week']"
   ]
  },
  {
   "cell_type": "code",
   "execution_count": 8,
   "id": "a0adda84",
   "metadata": {},
   "outputs": [
    {
     "data": {
      "text/plain": [
       "Index(['Jackfruit- Artocarpus heterophyllus',\n",
       "       'Mango (all varieties)- Mangifera indica', 'Teak- Tectona grandis',\n",
       "       'Tamarind- Tamarindus indica', 'Indian laburnum- Cassia fistula',\n",
       "       'Amla- Phyllanthus emblica', 'Jamun- Syzygium cumini',\n",
       "       'Coconut palm-Cocos nucifera', 'Maulsari- Mimusops elengi',\n",
       "       'Purple bauhinia- Bauhinia purpurea',\n",
       "       ...\n",
       "       'Guh-de- Three-leaf caper tree-Crateva adansonii',\n",
       "       'White willow-Salix alba', 'Prunus nepalensis-Sohiong',\n",
       "       'Prosopis cineraria-Khejri', 'Broken Bones Tree-Oroxylum indicum',\n",
       "       'Olour Mango- Mangifera indica', 'Meethabhaji-Champereia manillana ',\n",
       "       'Chinar-Platanus orientalis', 'Bhimal-Grewia optiva',\n",
       "       'Himalayan rhododendron- Rhododendron arboreum'],\n",
       "      dtype='object', name='Species_name', length=169)"
      ]
     },
     "execution_count": 8,
     "metadata": {},
     "output_type": "execute_result"
    }
   ],
   "source": [
    "kerala_df['Species_name'].value_counts().index"
   ]
  },
  {
   "cell_type": "code",
   "execution_count": 39,
   "id": "a8649e1a",
   "metadata": {},
   "outputs": [
    {
     "data": {
      "image/png": "[encoded data removed]",
      "text/plain": [
       "<Figure size 1500x900 with 10 Axes>"
      ]
     },
     "metadata": {},
     "output_type": "display_data"
    }
   ],
   "source": [
    "# TODO: Adjust Sizes and Spacing\n",
    "fig, ax = plt.subplots(2, 5, constrained_layout=True, figsize=(15, 9))\n",
    "for species in kerala_df['Species_name'].value_counts().index[:2]:\n",
    "    for idx, col in enumerate(kerala_df.columns[2:-2]):\n",
    "        plt.subplot(2, 5, idx+1)\n",
    "        plt.ylim(0,70000)\n",
    "        kerala_df[kerala_df['Species_name'] == species][col].value_counts().sort_index().plot.bar()\n",
    "\n",
    "plt.show()"
   ]
  },
  {
   "cell_type": "code",
   "execution_count": 12,
   "id": "186c79bf",
   "metadata": {},
   "outputs": [
    {
     "data": {
      "text/plain": [
       "Leaves_fresh\n",
       "-2.0      136\n",
       "-1.0      209\n",
       " 0.0    12958\n",
       " 1.0    44109\n",
       " 2.0    22323\n",
       "Name: count, dtype: int64"
      ]
     },
     "execution_count": 12,
     "metadata": {},
     "output_type": "execute_result"
    }
   ],
   "source": [
    "kerala_df[kerala_df['Species_name'] == 'Jackfruit- Artocarpus heterophyllus']['Leaves_fresh'].value_counts().sort_index()"
   ]
  },
  {
   "cell_type": "code",
   "execution_count": 10,
   "id": "92ec1d5f",
   "metadata": {},
   "outputs": [
    {
     "data": {
      "text/plain": [
       "<AxesSubplot:xlabel='Leaves_fresh'>"
      ]
     },
     "execution_count": 10,
     "metadata": {},
     "output_type": "execute_result"
    },
    {
     "data": {
      "image/png": "[encoded data removed]",
      "text/plain": [
       "<Figure size 640x480 with 1 Axes>"
      ]
     },
     "metadata": {},
     "output_type": "display_data"
    }
   ],
   "source": [
    "# Test\n",
    "plt.subplot(2, 5, 1)\n",
    "kerala_df[kerala_df['Species_name'] == 'Jackfruit- Artocarpus heterophyllus']['Leaves_fresh'].value_counts().plot.bar()\n",
    "plt.subplot(2, 5, 1)\n",
    "kerala_df[kerala_df['Species_name'] == 'Tamarind- Tamarindus indica']['Leaves_fresh'].value_counts().plot.bar()"
   ]
  },
  {
   "cell_type": "code",
   "execution_count": 196,
   "id": "cac6e217",
   "metadata": {
    "scrolled": false
   },
   "outputs": [
    {
     "data": {
      "image/png": "[encoded data removed]",
      "text/plain": [
       "<Figure size 640x480 with 1 Axes>"
      ]
     },
     "metadata": {},
     "output_type": "display_data"
    }
   ],
   "source": [
    "fig, ax = plt.subplots()\n",
    "jack['Leaves_fresh'].value_counts().plot.bar()\n",
    "jack['Leaves_mature'].value_counts().plot.bar()\n"
   ]
  },
  {
   "cell_type": "code",
   "execution_count": 184,
   "id": "aa934054",
   "metadata": {},
   "outputs": [
    {
     "data": {
      "text/html": [
       "<div>\n",
       "<style scoped>\n",
       "    .dataframe tbody tr th:only-of-type {\n",
       "        vertical-align: middle;\n",
       "    }\n",
       "\n",
       "    .dataframe tbody tr th {\n",
       "        vertical-align: top;\n",
       "    }\n",
       "\n",
       "    .dataframe thead th {\n",
       "        text-align: right;\n",
       "    }\n",
       "</style>\n",
       "<table border=\"1\" class=\"dataframe\">\n",
       "  <thead>\n",
       "    <tr style=\"text-align: right;\">\n",
       "      <th></th>\n",
       "      <th>average</th>\n",
       "      <th>min</th>\n",
       "      <th>max</th>\n",
       "    </tr>\n",
       "  </thead>\n",
       "  <tbody>\n",
       "    <tr>\n",
       "      <th>views</th>\n",
       "      <td>53.666667</td>\n",
       "      <td>3</td>\n",
       "      <td>135</td>\n",
       "    </tr>\n",
       "    <tr>\n",
       "      <th>orders</th>\n",
       "      <td>208.000000</td>\n",
       "      <td>1</td>\n",
       "      <td>500</td>\n",
       "    </tr>\n",
       "  </tbody>\n",
       "</table>\n",
       "</div>"
      ],
      "text/plain": [
       "           average  min  max\n",
       "views    53.666667    3  135\n",
       "orders  208.000000    1  500"
      ]
     },
     "execution_count": 184,
     "metadata": {},
     "output_type": "execute_result"
    }
   ],
   "source": [
    "pd.concat(\n",
    "    [\n",
    "        jack['Leaves_fresh'].value_counts().rename('average'), \n",
    "        df.min().rename('min'), \n",
    "        df.max().rename('max')\n",
    "    ],\n",
    "    axis=1,\n",
    ")"
   ]
  },
  {
   "cell_type": "code",
   "execution_count": 179,
   "id": "2577d880",
   "metadata": {},
   "outputs": [
    {
     "data": {
      "text/plain": [
       "<AxesSubplot:>"
      ]
     },
     "execution_count": 179,
     "metadata": {},
     "output_type": "execute_result"
    },
    {
     "data": {
      "image/png": "[encoded data removed]",
      "text/plain": [
       "<Figure size 640x480 with 1 Axes>"
      ]
     },
     "metadata": {},
     "output_type": "display_data"
    }
   ],
   "source": [
    "import pandas as pd\n",
    "\n",
    "groups = [[23,135,3], [123,500,1]]\n",
    "group_labels = ['views', 'orders']\n",
    "\n",
    "# Convert data to pandas DataFrame.\n",
    "df = pd.DataFrame(groups, index=group_labels).T\n",
    "\n",
    "# Plot.\n",
    "pd.concat(\n",
    "    [\n",
    "        df.mean().rename('average'), \n",
    "        df.min().rename('min'), \n",
    "        df.max().rename('max')\n",
    "    ],\n",
    "    axis=1,\n",
    ").plot.bar()"
   ]
  }
 ],
 "metadata": {
  "kernelspec": {
   "display_name": "Python 3 (ipykernel)",
   "language": "python",
   "name": "python3"
  },
  "language_info": {
   "codemirror_mode": {
    "name": "ipython",
    "version": 3
   },
   "file_extension": ".py",
   "mimetype": "text/x-python",
   "name": "python",
   "nbconvert_exporter": "python",
   "pygments_lexer": "ipython3",
   "version": "3.9.13"
  }
 },
 "nbformat": 4,
 "nbformat_minor": 5
}

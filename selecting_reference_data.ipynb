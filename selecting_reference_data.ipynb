{
 "cells": [
  {
   "cell_type": "markdown",
   "id": "5d28e72a",
   "metadata": {},
   "source": [
    "# Imports"
   ]
  },
  {
   "cell_type": "code",
   "execution_count": 1,
   "id": "f61e38a1",
   "metadata": {},
   "outputs": [],
   "source": [
    "import os\n",
    "import numpy as np\n",
    "import pandas as pd\n",
    "import matplotlib.pyplot as plt\n",
    "from sklearn.cluster import KMeans\n",
    "import time"
   ]
  },
  {
   "cell_type": "markdown",
   "id": "3de7ee2a",
   "metadata": {},
   "source": [
    "# Selecting New Reference Data With Clustering (K Nearest Neighbors)"
   ]
  },
  {
   "cell_type": "code",
   "execution_count": 2,
   "id": "22156d13",
   "metadata": {},
   "outputs": [],
   "source": [
    "def select_reference_data(state, species, year, num_trees=500, k=1):\n",
    "    \n",
    "    df = pd.read_csv(f\"all data/citizen/{state}.csv\")\n",
    "    df = df[df[\"Species_name\"] == species]\n",
    "    df = df[df[\"Year\"] == int(year)]\n",
    "    df = df.drop([\"Date_of_observation\", \"Observation_ID\", \"User_id\", \"User_Tree_id\", \"Species_id\", \"Species_name\", \"Year\"], axis=1) # Only keep week, phenophases, and coordinates\n",
    "    df = df.reset_index(drop=True)\n",
    "    \n",
    "    selected_ref_dict = {} # Saves closest citizen observations to centroids\n",
    "    \n",
    "    for week in df[\"Week\"].sort_values().unique():\n",
    "\n",
    "        week_df = df[df[\"Week\"] == week] # Only use data from the given week\n",
    "        week_df = week_df.drop(\"Week\", axis=1) # Drop the week column so that it is not used for clustering\n",
    "        week_df = week_df.reset_index(drop=True)\n",
    "        \n",
    "        # Clustering\n",
    "\n",
    "        km = KMeans(n_clusters=1, random_state=42, n_init=\"auto\") # Initializing kmeans model with 1 cluster\n",
    "        clusters = km.fit_predict(week_df) # Creating 1 cluster for all the observations for the given week\n",
    "        centroids = km.cluster_centers_ # Finding the centroid of the cluster\n",
    "        centroid = centroids[0]\n",
    "        centroid = [float(val) for val in centroid]\n",
    "        distances = []\n",
    "        \n",
    "        for i, row in week_df.iterrows():\n",
    "            distance = np.linalg.norm(row.values - centroid) # Find euclidian distance from each observation to the centroid\n",
    "            distances.append(distance) # Record all distances\n",
    "            \n",
    "        week_df['Distance_to_Centroid'] = distances # Add distances as an attribute in the DataFrame for the week\n",
    "        closest_k_points = week_df[\"Distance_to_Centroid\"].sort_values()[:k] # Find the k observations with closest (smallest distance) to the centroid\n",
    "        selected_ref_dict[week] = week_df.iloc[closest_k_points.index].median() # Use the median phenophase values over the k observations selected as the selected reference data for the given week\n",
    "    \n",
    "    # Reformatting new reference data dictionary to be returned as a dataframe matching style of reference data\n",
    "    selected_ref_df = pd.DataFrame(selected_ref_dict).T.sort_index() # Dictionary -> DataFrame\n",
    "    selected_ref_df.insert(0,\"Week\",selected_ref_df.index) # Add the week column back\n",
    "    \n",
    "    return selected_ref_df"
   ]
  },
  {
   "cell_type": "markdown",
   "id": "26c1004f",
   "metadata": {},
   "source": [
    "# Plotting Selected Reference vs. Citizen Data (Percentages)"
   ]
  },
  {
   "cell_type": "code",
   "execution_count": 3,
   "id": "0d002e43",
   "metadata": {},
   "outputs": [],
   "source": [
    "# Helper Function for create_selected_ref_plots\n",
    "def create_percentage_plots(state, species, year, phenophase):\n",
    "    \n",
    "    df = pd.read_csv(f\"all data/citizen/{state}.csv\")\n",
    "    df = df[df[\"Species_name\"] == species]\n",
    "    df = df[df[\"Year\"] == int(year)]\n",
    "    df = df.drop([\"Lat\", \"Long\", \"Date_of_observation\", \"Observation_ID\", \"User_id\", \"User_Tree_id\", \"Species_id\", \"Species_name\", \"Year\"], axis=1)\n",
    "    df = df.reset_index(drop=True) \n",
    "    presence_pcts = {}\n",
    "    for week in df[\"Week\"].sort_values().unique():\n",
    "        weekly_observations = df[df[\"Week\"] == week]\n",
    "        presence_count = len(weekly_observations[weekly_observations[phenophase] >= 1])\n",
    "        total_count = len(weekly_observations)\n",
    "        presence_pcts[week] = presence_count/total_count\n",
    "    return presence_pcts\n",
    "\n",
    "def create_selected_ref_plots(plot_path, states, n_species, years, k):\n",
    "    \"\"\"\n",
    "    Saves plots comparing selected reference data with citizen observations\n",
    "\n",
    "    Args:\n",
    "        plot_path (string): OS Path for where all plots will be saved\n",
    "        states (List(string)): List of state names to create plots for\n",
    "        n_species (int): Top n most prevalent species in the given state\n",
    "        years (List(int)): List of years to create plots for\n",
    "        k (int): Number of closest points to centroid considered for selecting reference data\n",
    "    Returns:\n",
    "        None\n",
    "    \"\"\"\n",
    "    \n",
    "    for state in states:\n",
    "        species_in_state = pd.read_csv(f\"all data/citizen/{state}.csv\")['Species_name'].value_counts().index[:n_species] # Top n most prevalent species in the given state\n",
    "        state_start_time = time.time()\n",
    "        for species in species_in_state:\n",
    "            species_start_time = time.time()\n",
    "            for year in years:\n",
    "                year_start_time = time.time()\n",
    "                \n",
    "                species_ref_df = select_reference_data(state, species, year, k=k) # Select reference data for the given \n",
    "\n",
    "                state_species_plot_path = f\"{plot_path}/{state}/{species.replace(' ', '').replace('.', '').lower()}\"\n",
    "                os.makedirs(state_species_plot_path, exist_ok=True)\n",
    "\n",
    "                phenophases = ['Leaves_fresh','Leaves_mature','Leaves_old','Flowers_bud','Flowers_open',\n",
    "                               'Flowers_male','Flowers_Female','Fruits_unripe','Fruits_ripe','Fruits_open']\n",
    "\n",
    "                for phenophase in phenophases:\n",
    "\n",
    "                    ref_x = species_ref_df['Week']\n",
    "                    ref_y = species_ref_df[phenophase]\n",
    "                    cit_pcts = create_percentage_plots(state, species, year, phenophase)\n",
    "                    cit_x = list(cit_pcts.keys())\n",
    "                    cit_y = list(cit_pcts.values())\n",
    "\n",
    "                    fig, ax = plt.subplots()\n",
    "                    ax.plot(ref_x, ref_y, label=f'Selected citizen observations (selected reference data)',color='orange')\n",
    "                    ax.set_ylim(-0.01,2.02)\n",
    "                    ax.set_title(f'{phenophase} Reference Data vs. Percentage Observing Phenophase for {species} in {state} in {year}', fontsize=8)\n",
    "                    ax.set(xlabel='Week of the year (0-47)', ylabel='Phenophase Value')\n",
    "                    twin = ax.twinx()\n",
    "                    twin.plot(cit_x, cit_y, label=f'Percentage Observing Phenophase')\n",
    "                    twin.set_ylim(-0.01, 1.01)\n",
    "                    twin.set(ylabel='Percent')\n",
    "                    ax.legend()\n",
    "                    twin.legend(loc='lower left')\n",
    "                    plt.savefig(f\"{state_species_plot_path}/{phenophase}_{year}\")\n",
    "                    plt.close()\n",
    "                print(f\"{year} in {species} in {state} finished in {time.time()-year_start_time} seconds\")\n",
    "            print(f\"{species} in {state} finished in {time.time()-species_start_time} seconds\")\n",
    "        print(f\"{state} finished in {time.time()-state_start_time} seconds\")"
   ]
  },
  {
   "cell_type": "code",
   "execution_count": 4,
   "id": "e1cf80ec",
   "metadata": {},
   "outputs": [
    {
     "name": "stdout",
     "output_type": "stream",
     "text": [
      "2018 in Mango (all varieties)-Mangifera indica in kerala finished in 9.584952116012573 seconds\n",
      "2019 in Mango (all varieties)-Mangifera indica in kerala finished in 10.597656011581421 seconds\n",
      "2020 in Mango (all varieties)-Mangifera indica in kerala finished in 10.432561874389648 seconds\n",
      "2021 in Mango (all varieties)-Mangifera indica in kerala finished in 9.695079803466797 seconds\n",
      "2022 in Mango (all varieties)-Mangifera indica in kerala finished in 10.113780975341797 seconds\n",
      "2023 in Mango (all varieties)-Mangifera indica in kerala finished in 9.993515014648438 seconds\n",
      "Mango (all varieties)-Mangifera indica in kerala finished in 60.4184250831604 seconds\n",
      "2018 in Jackfruit-Artocarpus heterophyllus in kerala finished in 12.664247035980225 seconds\n",
      "2019 in Jackfruit-Artocarpus heterophyllus in kerala finished in 12.995655059814453 seconds\n",
      "2020 in Jackfruit-Artocarpus heterophyllus in kerala finished in 10.895534992218018 seconds\n",
      "2021 in Jackfruit-Artocarpus heterophyllus in kerala finished in 11.09153413772583 seconds\n",
      "2022 in Jackfruit-Artocarpus heterophyllus in kerala finished in 10.112487077713013 seconds\n",
      "2023 in Jackfruit-Artocarpus heterophyllus in kerala finished in 10.224138021469116 seconds\n",
      "Jackfruit-Artocarpus heterophyllus in kerala finished in 67.98444414138794 seconds\n",
      "2018 in Coconut palm-Cocos nucifera in kerala finished in 10.156115055084229 seconds\n",
      "2019 in Coconut palm-Cocos nucifera in kerala finished in 9.947314977645874 seconds\n",
      "2020 in Coconut palm-Cocos nucifera in kerala finished in 9.878993034362793 seconds\n",
      "2021 in Coconut palm-Cocos nucifera in kerala finished in 10.400645971298218 seconds\n",
      "2022 in Coconut palm-Cocos nucifera in kerala finished in 10.044090986251831 seconds\n",
      "2023 in Coconut palm-Cocos nucifera in kerala finished in 10.044345140457153 seconds\n",
      "Coconut palm-Cocos nucifera in kerala finished in 60.47255992889404 seconds\n",
      "kerala finished in 188.8756091594696 seconds\n"
     ]
    }
   ],
   "source": [
    "plot_path = \"plots/selected_ref_vs_cit\" # Path for where plots will be stored\n",
    "states = ['kerala'] # use the following instead for all states: [state.replace('.csv','') for state in os.listdir(\"all data/citizen\")]\n",
    "n_species = 3 # Top n most prevalent species within the given state\n",
    "years = [2018,2019,2020,2021,2022,2023]\n",
    "k = 3\n",
    "create_selected_ref_plots(plot_path, states, n_species, years, k)"
   ]
  }
 ],
 "metadata": {
  "kernelspec": {
   "display_name": "Python 3 (ipykernel)",
   "language": "python",
   "name": "python3"
  },
  "language_info": {
   "codemirror_mode": {
    "name": "ipython",
    "version": 3
   },
   "file_extension": ".py",
   "mimetype": "text/x-python",
   "name": "python",
   "nbconvert_exporter": "python",
   "pygments_lexer": "ipython3",
   "version": "3.12.2"
  }
 },
 "nbformat": 4,
 "nbformat_minor": 5
}

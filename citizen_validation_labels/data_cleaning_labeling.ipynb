{
 "cells": [
  {
   "cell_type": "markdown",
   "id": "9d23fe7e-1cee-4b2b-bab2-608722add04c",
   "metadata": {},
   "source": [
    "# Imports"
   ]
  },
  {
   "cell_type": "code",
   "execution_count": 1,
   "id": "6ba25580",
   "metadata": {
    "scrolled": true
   },
   "outputs": [
    {
     "name": "stdout",
     "output_type": "stream",
     "text": [
      "Requirement already satisfied: geopandas in /opt/miniconda3/lib/python3.12/site-packages (0.14.4)\n",
      "Requirement already satisfied: shapely in /opt/miniconda3/lib/python3.12/site-packages (2.0.4)\n",
      "Requirement already satisfied: fiona>=1.8.21 in /opt/miniconda3/lib/python3.12/site-packages (from geopandas) (1.9.6)\n",
      "Requirement already satisfied: numpy>=1.22 in /opt/miniconda3/lib/python3.12/site-packages (from geopandas) (1.26.4)\n",
      "Requirement already satisfied: packaging in /opt/miniconda3/lib/python3.12/site-packages (from geopandas) (23.2)\n",
      "Requirement already satisfied: pandas>=1.4.0 in /opt/miniconda3/lib/python3.12/site-packages (from geopandas) (2.2.1)\n",
      "Requirement already satisfied: pyproj>=3.3.0 in /opt/miniconda3/lib/python3.12/site-packages (from geopandas) (3.6.1)\n",
      "Requirement already satisfied: attrs>=19.2.0 in /opt/miniconda3/lib/python3.12/site-packages (from fiona>=1.8.21->geopandas) (23.2.0)\n",
      "Requirement already satisfied: certifi in /opt/miniconda3/lib/python3.12/site-packages (from fiona>=1.8.21->geopandas) (2024.6.2)\n",
      "Requirement already satisfied: click~=8.0 in /opt/miniconda3/lib/python3.12/site-packages (from fiona>=1.8.21->geopandas) (8.1.7)\n",
      "Requirement already satisfied: click-plugins>=1.0 in /opt/miniconda3/lib/python3.12/site-packages (from fiona>=1.8.21->geopandas) (1.1.1)\n",
      "Requirement already satisfied: cligj>=0.5 in /opt/miniconda3/lib/python3.12/site-packages (from fiona>=1.8.21->geopandas) (0.7.2)\n",
      "Requirement already satisfied: six in /opt/miniconda3/lib/python3.12/site-packages (from fiona>=1.8.21->geopandas) (1.16.0)\n",
      "Requirement already satisfied: python-dateutil>=2.8.2 in /opt/miniconda3/lib/python3.12/site-packages (from pandas>=1.4.0->geopandas) (2.9.0.post0)\n",
      "Requirement already satisfied: pytz>=2020.1 in /opt/miniconda3/lib/python3.12/site-packages (from pandas>=1.4.0->geopandas) (2024.1)\n",
      "Requirement already satisfied: tzdata>=2022.7 in /opt/miniconda3/lib/python3.12/site-packages (from pandas>=1.4.0->geopandas) (2023.3)\n"
     ]
    }
   ],
   "source": [
    "# This is an uncommon library so we run a pip install of it just in case\n",
    "!pip install geopandas shapely"
   ]
  },
  {
   "cell_type": "code",
   "execution_count": 2,
   "id": "1609308f",
   "metadata": {
    "scrolled": true
   },
   "outputs": [],
   "source": [
    "# Common imports\n",
    "import pandas as pd # Pandas for storing and manipulating CSV files as DataFrames (tables)\n",
    "import geopandas as gpd # Geopandas for converting coordinates to states\n",
    "from shapely.geometry import Point # Same as Geopandas\n",
    "import numpy as np # Numpy for storing and manipulating arrays (lists)\n",
    "import math # Math for finding NaN values\n",
    "import os # OS for writing and reading directories (folders)\n",
    "import time # Time for checking how long things take\n",
    "from sklearn.ensemble import IsolationForest # Isolation Forests for anomaly detection"
   ]
  },
  {
   "cell_type": "markdown",
   "id": "b90abc20-b64b-40b7-b24b-9711a13a7e47",
   "metadata": {},
   "source": [
    "### Validation Label 0"
   ]
  },
  {
   "cell_type": "code",
   "execution_count": 5,
   "id": "ef76fac6",
   "metadata": {
    "scrolled": true
   },
   "outputs": [],
   "source": [
    "df = pd.read_csv(\"../alldata.csv\") # Load raw citizen data in\n",
    "df.head() # Previewing raw (before cleaning) citizen data\n",
    "\n",
    "val_df = df.copy() # Initializing validation labels DataFrame as raw citizen data\n",
    "val_df[\"validation_label\"] = np.zeros(len(val_df)) # Initialize validation labels column as zero for every record"
   ]
  },
  {
   "cell_type": "markdown",
   "id": "e4ecaa70",
   "metadata": {},
   "source": [
    "# Labeling Incorrect -2 Values"
   ]
  },
  {
   "cell_type": "code",
   "execution_count": 13,
   "id": "60a596be",
   "metadata": {},
   "outputs": [
    {
     "data": {
      "text/plain": [
       "Unnamed: 0             False\n",
       "Observation_ID         False\n",
       "Date_of_observation    False\n",
       "User_id                False\n",
       "User_Tree_id           False\n",
       "Species_name           False\n",
       "Lat                    False\n",
       "Long                   False\n",
       "State_name             False\n",
       "Leaves_fresh           False\n",
       "Leaves_mature          False\n",
       "Leaves_old             False\n",
       "Flowers_bud            False\n",
       "Flowers_open           False\n",
       "Flowers_male           False\n",
       "Flowers_Female         False\n",
       "Fruits_unripe          False\n",
       "Fruits_ripe            False\n",
       "Fruits_open            False\n",
       "dtype: bool"
      ]
     },
     "execution_count": 13,
     "metadata": {},
     "output_type": "execute_result"
    }
   ],
   "source": [
    "# Checking if 100.612 would work as a placeholder value\n",
    "placeholder = 100.612 # 100.612 is chosen as a random decimal value which should not appear throughout the citizen data\n",
    "df.isin([placeholder]).any() # Is this placeholder value in any column in the citizen data? \n",
    "# Output should return False for each column in the database. This means that the placeholder does not appear\n",
    "# in the citizen data, and will thus work as a functional placeholder."
   ]
  },
  {
   "cell_type": "markdown",
   "id": "c7aa07d0-e0dd-4645-ab5d-43640a50edbd",
   "metadata": {},
   "source": [
    "### Validation Label 1"
   ]
  },
  {
   "cell_type": "code",
   "execution_count": null,
   "id": "6f5bb3b6",
   "metadata": {},
   "outputs": [],
   "source": [
    "# Replacing incorrect -2 values with either NA or -2\n",
    "all_species = list(df['Species_name'].value_counts().index) # All species names in order of frequency\n",
    "phenophases = list(df.columns[9:]) # Phenophase column names\n",
    "\n",
    "def create_species_dict(*absent_phenophases):\n",
    "    \"\"\"\n",
    "    Creates a dictionary informing if each phenophase is seen in a species or not (0 for seen, 1 for not seen)\n",
    "\n",
    "    Args:\n",
    "        absent_phenophase (List(string)): List of phenophases not seen in a species\n",
    "        use_q (bool):  False means use MDP value iteration, true means use Q-learning\n",
    "    Returns:\n",
    "        species_dict (Dict(string,int)): A Dictionary mapping phenophases to binaries indicating presence in a species\n",
    "    \"\"\"\n",
    "    species_dict = dict(zip(phenophases, np.zeros(len(phenophases), int)))\n",
    "    for phenophase in absent_phenophases:\n",
    "        species_dict[phenophase] = 1\n",
    "    return species_dict\n",
    "\n",
    "handbook_dicts = {} # Dict mapping species to species dicts. \n",
    "# Below are manually input absent phenophases for each species in the citizen dataset. Labels derived from SeasonWatch Tree Phenology Guide\n",
    "handbook_dicts[all_species[0]] = create_species_dict('Flowers_open','Fruits_open')\n",
    "handbook_dicts[all_species[1]] = create_species_dict('Flowers_male', 'Flowers_Female', 'Fruits_open')\n",
    "handbook_dicts[all_species[2]] = create_species_dict('Flowers_open', 'Fruits_open')\n",
    "handbook_dicts[all_species[3]] = create_species_dict('Flowers_male', 'Flowers_Female', 'Fruits_open')\n",
    "handbook_dicts[all_species[4]] = create_species_dict('Flowers_male', 'Flowers_Female', 'Fruits_open')\n",
    "handbook_dicts[all_species[5]] = create_species_dict('Flowers_male', 'Flowers_Female', 'Fruits_open')\n",
    "handbook_dicts[all_species[6]] = create_species_dict('Flowers_male', 'Flowers_Female', 'Fruits_open')\n",
    "handbook_dicts[all_species[7]] = create_species_dict('Flowers_male', 'Flowers_Female', 'Fruits_open')\n",
    "handbook_dicts[all_species[8]] = create_species_dict('Flowers_male', 'Flowers_Female', 'Fruits_open')\n",
    "handbook_dicts[all_species[9]] = create_species_dict('Flowers_male', 'Flowers_Female')\n",
    "handbook_dicts[all_species[10]] = create_species_dict('Flowers_male', 'Flowers_Female', 'Fruits_open')\n",
    "handbook_dicts[all_species[11]] = create_species_dict('Flowers_male', 'Flowers_Female')\n",
    "handbook_dicts[all_species[12]] = create_species_dict('Flowers_male', 'Flowers_Female', 'Fruits_open')\n",
    "handbook_dicts[all_species[13]] = create_species_dict('Flowers_bud', 'Flowers_open', 'Flowers_male', 'Flowers_Female', 'Fruits_open')\n",
    "handbook_dicts[all_species[14]] = create_species_dict('Flowers_male', 'Flowers_Female', 'Fruits_open')\n",
    "handbook_dicts[all_species[15]] = create_species_dict('Flowers_male', 'Flowers_Female')\n",
    "handbook_dicts[all_species[16]] = create_species_dict('Flowers_male', 'Flowers_Female')\n",
    "handbook_dicts[all_species[17]] = create_species_dict('Flowers_male', 'Flowers_Female')\n",
    "handbook_dicts[all_species[18]] = create_species_dict('Flowers_male', 'Flowers_Female', 'Fruits_open')\n",
    "handbook_dicts[all_species[19]] = create_species_dict('Flowers_male', 'Flowers_Female', 'Fruits_open')\n",
    "handbook_dicts[all_species[20]] = create_species_dict('Flowers_bud', 'Flowers_open', 'Flowers_male', 'Flowers_Female', 'Fruits_open')\n",
    "handbook_dicts[all_species[21]] = create_species_dict('Flowers_male', 'Flowers_Female', 'Fruits_open')\n",
    "handbook_dicts[all_species[22]] = create_species_dict('Flowers_male', 'Flowers_Female')\n",
    "handbook_dicts[all_species[23]] = create_species_dict('Flowers_male', 'Flowers_Female', 'Fruits_open')\n",
    "handbook_dicts[all_species[24]] = create_species_dict('Flowers_male', 'Flowers_Female', 'Fruits_open')\n",
    "handbook_dicts[all_species[25]] = create_species_dict('Flowers_male', 'Flowers_Female', 'Fruits_open')\n",
    "handbook_dicts[all_species[26]] = create_species_dict('Flowers_male', 'Flowers_Female', 'Fruits_open')\n",
    "handbook_dicts[all_species[27]] = create_species_dict('Flowers_male', 'Flowers_Female')\n",
    "handbook_dicts[all_species[28]] = create_species_dict('Flowers_male', 'Flowers_Female', 'Fruits_open')\n",
    "handbook_dicts[all_species[29]] = create_species_dict('Flowers_bud', 'Flowers_open', 'Flowers_male', 'Flowers_Female', 'Fruits_open')\n",
    "handbook_dicts[all_species[30]] = create_species_dict('Flowers_male', 'Flowers_Female')\n",
    "handbook_dicts[all_species[31]] = create_species_dict('Flowers_male', 'Flowers_Female', 'Fruits_open')\n",
    "handbook_dicts[all_species[32]] = create_species_dict('Flowers_male', 'Flowers_Female')\n",
    "handbook_dicts[all_species[33]] = create_species_dict('Flowers_bud', 'Flowers_male', 'Flowers_Female', 'Fruits_open')\n",
    "handbook_dicts[all_species[34]] = create_species_dict('Flowers_male', 'Flowers_Female')\n",
    "handbook_dicts[all_species[35]] = create_species_dict('Flowers_male', 'Flowers_Female', 'Fruits_open')\n",
    "handbook_dicts[all_species[36]] = create_species_dict('Flowers_male', 'Flowers_Female', 'Fruits_open')\n",
    "handbook_dicts[all_species[37]] = create_species_dict('Flowers_male', 'Flowers_Female', 'Fruits_open')\n",
    "handbook_dicts[all_species[38]] = create_species_dict('Flowers_male', 'Flowers_Female', 'Fruits_open')\n",
    "handbook_dicts[all_species[39]] = create_species_dict('Flowers_male', 'Flowers_Female')\n",
    "handbook_dicts[all_species[40]] = create_species_dict('Flowers_male', 'Flowers_Female', 'Fruits_open')\n",
    "handbook_dicts[all_species[41]] = create_species_dict('Flowers_open', 'Fruits_open')\n",
    "handbook_dicts[all_species[42]] = create_species_dict('Flowers_male', 'Flowers_Female')\n",
    "handbook_dicts[all_species[43]] = create_species_dict('Flowers_male', 'Flowers_Female')\n",
    "handbook_dicts[all_species[44]] = create_species_dict('Flowers_male', 'Flowers_Female')\n",
    "handbook_dicts[all_species[45]] = create_species_dict('Flowers_male', 'Flowers_Female', 'Fruits_open')\n",
    "handbook_dicts[all_species[46]] = create_species_dict('Flowers_male', 'Flowers_Female', 'Fruits_open')\n",
    "handbook_dicts[all_species[47]] = create_species_dict('Flowers_male', 'Flowers_Female', 'Fruits_open')\n",
    "handbook_dicts[all_species[48]] = create_species_dict('Flowers_male', 'Flowers_Female', 'Fruits_open')\n",
    "handbook_dicts[all_species[49]] = create_species_dict('Flowers_male', 'Flowers_Female')\n",
    "handbook_dicts[all_species[50]] = create_species_dict('Flowers_male', 'Flowers_Female')\n",
    "handbook_dicts[all_species[51]] = create_species_dict('Flowers_male', 'Flowers_Female')\n",
    "handbook_dicts[all_species[52]] = create_species_dict('Flowers_male', 'Flowers_Female', 'Fruits_open')\n",
    "handbook_dicts[all_species[53]] = create_species_dict('Flowers_male', 'Flowers_Female', 'Fruits_open')\n",
    "handbook_dicts[all_species[54]] = create_species_dict('Flowers_male', 'Flowers_Female', 'Fruits_open')\n",
    "handbook_dicts[all_species[55]] = create_species_dict('Flowers_male', 'Flowers_Female')\n",
    "handbook_dicts[all_species[56]] = create_species_dict('Flowers_male', 'Flowers_Female', 'Fruits_open')\n",
    "handbook_dicts[all_species[57]] = create_species_dict('Flowers_male', 'Flowers_Female')\n",
    "handbook_dicts[all_species[58]] = create_species_dict('Flowers_male', 'Flowers_Female')\n",
    "handbook_dicts[all_species[59]] = create_species_dict('Flowers_male', 'Flowers_Female')\n",
    "handbook_dicts[all_species[60]] = create_species_dict('Flowers_male', 'Flowers_Female', 'Fruits_open')\n",
    "handbook_dicts[all_species[61]] = create_species_dict('Flowers_male', 'Flowers_Female', 'Fruits_open')\n",
    "handbook_dicts[all_species[62]] = create_species_dict('Flowers_male', 'Flowers_Female', 'Fruits_open')\n",
    "handbook_dicts[all_species[63]] = create_species_dict('Flowers_male', 'Flowers_Female', 'Fruits_open')\n",
    "handbook_dicts[all_species[64]] = create_species_dict('Flowers_male', 'Flowers_Female', 'Fruits_open')\n",
    "handbook_dicts[all_species[65]] = create_species_dict('Flowers_open', 'Fruits_open') # Silkworm Mulberry\n",
    "handbook_dicts[all_species[66]] = create_species_dict('Flowers_male', 'Flowers_Female', 'Fruits_open')\n",
    "handbook_dicts[all_species[67]] = create_species_dict('Flowers_male', 'Flowers_Female', 'Fruits_open')\n",
    "handbook_dicts[all_species[68]] = create_species_dict('Flowers_male', 'Flowers_Female', 'Fruits_open')\n",
    "handbook_dicts[all_species[69]] = create_species_dict('Flowers_male', 'Flowers_Female', 'Fruits_open')\n",
    "handbook_dicts[all_species[70]] = create_species_dict('Flowers_male', 'Flowers_Female')\n",
    "handbook_dicts[all_species[71]] = create_species_dict('Flowers_male', 'Flowers_Female')\n",
    "handbook_dicts[all_species[72]] = create_species_dict('Flowers_male', 'Flowers_Female', 'Fruits_open')\n",
    "handbook_dicts[all_species[73]] = create_species_dict('Flowers_male', 'Flowers_Female', 'Fruits_open')\n",
    "handbook_dicts[all_species[74]] = create_species_dict('Flowers_male', 'Flowers_Female', 'Fruits_open')\n",
    "handbook_dicts[all_species[75]] = create_species_dict('Flowers_male', 'Flowers_Female', 'Fruits_open')\n",
    "handbook_dicts[all_species[76]] = create_species_dict('Flowers_male', 'Flowers_Female', 'Fruits_open')\n",
    "handbook_dicts[all_species[77]] = create_species_dict('Flowers_open', 'Fruits_open') # Box-myrtle\n",
    "handbook_dicts[all_species[78]] = create_species_dict('Flowers_male', 'Flowers_Female', 'Fruits_open')\n",
    "handbook_dicts[all_species[79]] = create_species_dict('Flowers_male', 'Flowers_Female')\n",
    "handbook_dicts[all_species[80]] = create_species_dict('Flowers_male', 'Flowers_Female', 'Fruits_open') # Airi Mango\n",
    "handbook_dicts[all_species[81]] = create_species_dict('Flowers_male', 'Flowers_Female', 'Fruits_open')\n",
    "handbook_dicts[all_species[82]] = create_species_dict('Flowers_male', 'Flowers_Female', 'Fruits_open')\n",
    "handbook_dicts[all_species[83]] = create_species_dict('Flowers_male', 'Flowers_Female', 'Fruits_open')\n",
    "handbook_dicts[all_species[84]] = create_species_dict('Flowers_male', 'Flowers_Female', 'Fruits_open')\n",
    "handbook_dicts[all_species[85]] = create_species_dict('Flowers_male', 'Flowers_Female', 'Fruits_open')\n",
    "handbook_dicts[all_species[86]] = create_species_dict('Flowers_male', 'Flowers_Female')\n",
    "handbook_dicts[all_species[87]] = create_species_dict('Flowers_male', 'Flowers_Female', 'Fruits_open')\n",
    "handbook_dicts[all_species[88]] = create_species_dict('Flowers_male', 'Flowers_Female')\n",
    "handbook_dicts[all_species[89]] = create_species_dict('Flowers_open','Fruits_open')\n",
    "handbook_dicts[all_species[90]] = create_species_dict('Flowers_male', 'Flowers_Female', 'Fruits_open')\n",
    "handbook_dicts[all_species[91]] = create_species_dict('Flowers_male', 'Flowers_Female')\n",
    "handbook_dicts[all_species[92]] = create_species_dict('Flowers_male', 'Flowers_Female', 'Fruits_open')\n",
    "handbook_dicts[all_species[93]] = create_species_dict('Flowers_open','Fruits_open')\n",
    "handbook_dicts[all_species[94]] = create_species_dict('Flowers_open') # Wild Almond\n",
    "handbook_dicts[all_species[95]] = create_species_dict('Flowers_male', 'Flowers_Female')\n",
    "handbook_dicts[all_species[96]] = create_species_dict('Flowers_male', 'Flowers_Female', 'Fruits_open')\n",
    "handbook_dicts[all_species[97]] = create_species_dict('Flowers_male', 'Flowers_Female', 'Fruits_open')\n",
    "handbook_dicts[all_species[98]] = create_species_dict('Flowers_male', 'Flowers_Female')\n",
    "handbook_dicts[all_species[99]] = create_species_dict('Flowers_male', 'Flowers_Female', 'Fruits_open')\n",
    "handbook_dicts[all_species[100]] = create_species_dict('Flowers_male', 'Flowers_Female', 'Fruits_open')\n",
    "handbook_dicts[all_species[101]] = create_species_dict('Flowers_male', 'Flowers_Female', 'Fruits_open')\n",
    "handbook_dicts[all_species[102]] = create_species_dict('Flowers_male', 'Flowers_Female', 'Fruits_open')\n",
    "handbook_dicts[all_species[103]] = create_species_dict('Flowers_male', 'Flowers_Female', 'Fruits_open')\n",
    "handbook_dicts[all_species[104]] = create_species_dict('Flowers_male', 'Flowers_Female', 'Fruits_open') # Alphonso Mango\n",
    "handbook_dicts[all_species[105]] = create_species_dict('Flowers_male', 'Flowers_Female', 'Fruits_open')\n",
    "handbook_dicts[all_species[106]] = create_species_dict('Flowers_male', 'Flowers_Female', 'Fruits_open')\n",
    "handbook_dicts[all_species[107]] = create_species_dict('Flowers_male', 'Flowers_Female', 'Fruits_open')\n",
    "handbook_dicts[all_species[108]] = create_species_dict('Flowers_open')\n",
    "handbook_dicts[all_species[109]] = create_species_dict('Flowers_male', 'Flowers_Female', 'Fruits_open')\n",
    "handbook_dicts[all_species[110]] = create_species_dict('Flowers_male', 'Flowers_Female', 'Fruits_open')\n",
    "handbook_dicts[all_species[111]] = create_species_dict('Flowers_male', 'Flowers_Female', 'Fruits_open')\n",
    "handbook_dicts[all_species[112]] = create_species_dict('Flowers_male', 'Flowers_Female', 'Fruits_open')\n",
    "handbook_dicts[all_species[113]] = create_species_dict('Flowers_open','Fruits_open')\n",
    "handbook_dicts[all_species[114]] = create_species_dict('Flowers_male', 'Flowers_Female', 'Fruits_open')\n",
    "handbook_dicts[all_species[115]] = create_species_dict('Flowers_male', 'Flowers_Female', 'Fruits_open') # Aabehayat Mango\n",
    "handbook_dicts[all_species[116]] = create_species_dict('Flowers_male', 'Flowers_Female', 'Fruits_open')\n",
    "handbook_dicts[all_species[117]] = create_species_dict('Flowers_male', 'Flowers_Female', 'Fruits_open')\n",
    "handbook_dicts[all_species[118]] = create_species_dict('Flowers_bud', 'Flowers_open', 'Flowers_male', 'Flowers_Female', 'Fruits_open')\n",
    "handbook_dicts[all_species[119]] = create_species_dict('Flowers_male', 'Flowers_Female', 'Fruits_open')\n",
    "handbook_dicts[all_species[120]] = create_species_dict('Flowers_open')\n",
    "handbook_dicts[all_species[121]] = create_species_dict('Flowers_male', 'Flowers_Female', 'Fruits_open')\n",
    "handbook_dicts[all_species[122]] = create_species_dict('Flowers_male', 'Flowers_Female', 'Fruits_open')\n",
    "handbook_dicts[all_species[123]] = create_species_dict('Flowers_male', 'Flowers_Female')\n",
    "handbook_dicts[all_species[124]] = create_species_dict('Flowers_male', 'Flowers_Female')\n",
    "handbook_dicts[all_species[125]] = create_species_dict('Flowers_male', 'Flowers_Female', 'Fruits_open')\n",
    "handbook_dicts[all_species[126]] = create_species_dict('Flowers_male', 'Flowers_Female')\n",
    "handbook_dicts[all_species[127]] = create_species_dict('Flowers_male', 'Flowers_Female')\n",
    "handbook_dicts[all_species[128]] = create_species_dict('Flowers_male', 'Flowers_Female')\n",
    "handbook_dicts[all_species[129]] = create_species_dict('Flowers_male', 'Flowers_Female', 'Fruits_open') # Manjeera Mango\n",
    "handbook_dicts[all_species[130]] = create_species_dict('Flowers_male', 'Flowers_Female')\n",
    "handbook_dicts[all_species[131]] = create_species_dict('Flowers_male', 'Flowers_Female', 'Fruits_open')\n",
    "handbook_dicts[all_species[132]] = create_species_dict('Flowers_male', 'Flowers_Female', 'Fruits_open')\n",
    "handbook_dicts[all_species[133]] = create_species_dict('Flowers_male', 'Flowers_Female', 'Fruits_open')\n",
    "handbook_dicts[all_species[134]] = create_species_dict('Flowers_male', 'Flowers_Female', 'Fruits_open')\n",
    "handbook_dicts[all_species[135]] = create_species_dict('Flowers_male', 'Flowers_Female', 'Fruits_open')\n",
    "handbook_dicts[all_species[136]] = create_species_dict('Flowers_male', 'Flowers_Female', 'Fruits_open')\n",
    "handbook_dicts[all_species[137]] = create_species_dict('Flowers_male', 'Flowers_Female', 'Fruits_open')\n",
    "handbook_dicts[all_species[138]] = create_species_dict('Flowers_male', 'Flowers_Female')\n",
    "handbook_dicts[all_species[139]] = create_species_dict('Flowers_male', 'Flowers_Female', 'Fruits_open')\n",
    "handbook_dicts[all_species[140]] = create_species_dict('Flowers_male', 'Flowers_Female')\n",
    "handbook_dicts[all_species[141]] = create_species_dict('Flowers_male', 'Flowers_Female', 'Fruits_open')\n",
    "handbook_dicts[all_species[142]] = create_species_dict('Flowers_male', 'Flowers_Female', 'Fruits_open')\n",
    "handbook_dicts[all_species[143]] = create_species_dict('Flowers_male', 'Flowers_Female', 'Fruits_open')\n",
    "handbook_dicts[all_species[144]] = create_species_dict('Flowers_male', 'Flowers_Female') # Blue Pine\n",
    "handbook_dicts[all_species[145]] = create_species_dict('Flowers_open')\n",
    "handbook_dicts[all_species[146]] = create_species_dict('Flowers_male', 'Flowers_Female', 'Fruits_open')\n",
    "handbook_dicts[all_species[147]] = create_species_dict('Flowers_male', 'Flowers_Female', 'Fruits_open')\n",
    "handbook_dicts[all_species[148]] = create_species_dict('Flowers_open','Fruits_open')\n",
    "handbook_dicts[all_species[149]] = create_species_dict('Flowers_male', 'Flowers_Female')\n",
    "handbook_dicts[all_species[150]] = create_species_dict('Flowers_male', 'Flowers_Female')\n",
    "handbook_dicts[all_species[151]] = create_species_dict('Flowers_open', 'Fruits_open') # Indian Charcoal Tree\n",
    "handbook_dicts[all_species[152]] = create_species_dict('Flowers_open','Fruits_open')\n",
    "handbook_dicts[all_species[153]] = create_species_dict('Flowers_male', 'Flowers_Female')\n",
    "handbook_dicts[all_species[154]] = create_species_dict('Flowers_male', 'Flowers_Female')\n",
    "handbook_dicts[all_species[155]] = create_species_dict('Flowers_male', 'Flowers_Female', 'Fruits_open')\n",
    "handbook_dicts[all_species[156]] = create_species_dict('Flowers_male', 'Flowers_Female')\n",
    "handbook_dicts[all_species[157]] = create_species_dict('Flowers_male', 'Flowers_Female')\n",
    "handbook_dicts[all_species[158]] = create_species_dict('Flowers_open')\n",
    "handbook_dicts[all_species[159]] = create_species_dict('Flowers_male', 'Flowers_Female', 'Fruits_open')\n",
    "handbook_dicts[all_species[160]] = create_species_dict('Flowers_male', 'Flowers_Female', 'Fruits_open') # Mallika Mango\n",
    "handbook_dicts[all_species[161]] = create_species_dict('Flowers_male', 'Flowers_Female', 'Fruits_open')\n",
    "handbook_dicts[all_species[162]] = create_species_dict('Flowers_male', 'Flowers_Female', 'Fruits_open')\n",
    "handbook_dicts[all_species[163]] = create_species_dict('Flowers_male', 'Flowers_Female', 'Fruits_open')\n",
    "handbook_dicts[all_species[164]] = create_species_dict('Flowers_male', 'Flowers_Female', 'Fruits_open')\n",
    "handbook_dicts[all_species[165]] = create_species_dict('Flowers_male', 'Flowers_Female', 'Fruits_open')\n",
    "handbook_dicts[all_species[166]] = create_species_dict('Flowers_open','Fruits_open') # Mohru Oak\n",
    "handbook_dicts[all_species[167]] = create_species_dict('Flowers_male', 'Flowers_Female', 'Fruits_open')\n",
    "handbook_dicts[all_species[168]] = create_species_dict('Flowers_bud', 'Flowers_open', 'Flowers_male', 'Flowers_Female', 'Fruits_open')\n",
    "handbook_dicts[all_species[169]] = create_species_dict('Flowers_male', 'Flowers_Female')\n",
    "handbook_dicts[all_species[170]] = create_species_dict('Flowers_male', 'Flowers_Female', 'Fruits_open')\n",
    "handbook_dicts[all_species[171]] = create_species_dict('Flowers_male', 'Flowers_Female', 'Fruits_open')\n",
    "handbook_dicts[all_species[172]] = create_species_dict('Flowers_male', 'Flowers_Female', 'Fruits_open') # Chosa Mango\n",
    "handbook_dicts[all_species[173]] = create_species_dict('Flowers_male', 'Flowers_Female', 'Fruits_open')\n",
    "handbook_dicts[all_species[174]] = create_species_dict('Flowers_male', 'Flowers_Female', 'Fruits_open') # Olour Mango\n",
    "handbook_dicts[all_species[175]] = create_species_dict('Flowers_open','Fruits_open')\n",
    "handbook_dicts[all_species[176]] = create_species_dict('Flowers_bud', 'Flowers_male', 'Flowers_Female', 'Fruits_open')\n",
    "\n",
    "# Replace Incorrect -2 Values\n",
    "for species in all_species:\n",
    "    species_df = df[df['Species_name'] == species]\n",
    "    species_dict = handbook_dicts[species]\n",
    "    for phenophase in phenophases:\n",
    "        if species_dict[phenophase] == 0: # Phenophase seen in species\n",
    "            false_positive_idx = species_df.index[species_df[phenophase] == -2] # Indices of reports that incorrectly assign -2 values (false positive) to phenophases SEEN in the species\n",
    "            df.loc[false_positive_idx, phenophase] = np.full(len(false_positive_idx),placeholder) # Turn all false positives into 100.612 (these observations will later be dropped but they cannot be Null/NaN/None values yet, so they will not be identified by .isna() check later)\n",
    "            val_df.loc[false_positive_idx, 'validation_label'] = np.full(len(false_positive_idx),1) # Label false positive records as 1 because they will be dropped (1 represents observations incorrectly assigned -2 values)\n",
    "        if species_dict[phenophase] == 1: # Phenophase NOT seen in species\n",
    "            false_negative_idx = species_df.index[species_df[phenophase] != -2] # Indices of reports that incorrectly assign values other than -2 (false negative) to phenophases NOT SEEN in the species\n",
    "            df.loc[false_negative_idx, phenophase] = np.full(len(false_negative_idx),-2.0) # Turn all false negatives into -2 values"
   ]
  },
  {
   "cell_type": "code",
   "execution_count": null,
   "id": "9f675e26",
   "metadata": {
    "scrolled": true
   },
   "outputs": [],
   "source": [
    "# Combining all mango varieties under the Species_name of Mango (all varieties)- Mangifera indica\n",
    "df['Species_name'] = df['Species_name'].replace(to_replace=r'\\w* Mango- Mangifera indica', value='Mango (all varieties)- Mangifera indica', regex=True)"
   ]
  },
  {
   "cell_type": "markdown",
   "id": "10ca0435",
   "metadata": {},
   "source": [
    "# Filling in Missing States"
   ]
  },
  {
   "cell_type": "code",
   "execution_count": null,
   "id": "c330e936",
   "metadata": {
    "scrolled": true
   },
   "outputs": [],
   "source": [
    "states_shapefile = gpd.read_file(\"india/gadm41_IND_3.shp\") # Load map of India with states as a coordinate grid with labels"
   ]
  },
  {
   "cell_type": "code",
   "execution_count": null,
   "id": "80bd420e",
   "metadata": {},
   "outputs": [],
   "source": [
    "# Function for filling state_name attribute based on coordinates for observations with NA state_name\n",
    "def find_indian_state(latitude, longitude, gdf):\n",
    "    \"\"\"\n",
    "    Finds the state name associated with a set of coordinates\n",
    "\n",
    "    Args:\n",
    "        latitude, longitude (int, int): Latitude and longitude coordinates\n",
    "        gdf (GeoDataFrame): Coordinate grid of India with states labeled\n",
    "    Returns:\n",
    "        state['NAME_1'] (string): If coordinates map to somewhere within India, return state name\n",
    "        None (None): Else, return None because the coordinates are unreliable\n",
    "    \"\"\"\n",
    "    \n",
    "    point = Point(longitude, latitude)\n",
    "    \n",
    "    for _, state in gdf.iterrows():\n",
    "        if state['geometry'].contains(point):\n",
    "            return state['NAME_1']\n",
    "    return None\n",
    "\n",
    "# Test\n",
    "state = find_indian_state(13.07248, 80.24340, states_shapefile)\n",
    "print(state) # IF THE FUNCTION WORKS THIS SHOULD OUTPUT TAMIL NADU"
   ]
  },
  {
   "cell_type": "code",
   "execution_count": null,
   "id": "309f4775",
   "metadata": {
    "scrolled": true
   },
   "outputs": [],
   "source": [
    "# Fill any missing state names in dataset\n",
    "import time \n",
    "start_time = time.time() # Measuring Time\n",
    "counter = 0 # Number of observations checked so far\n",
    "observations_missing_state_name = df[df[\"State_name\"].isna()].drop(['State_name'], axis=1).dropna(how='any') # Taking a subset of citizen observations with all columns recorded (not NaN/Null/None) except State_name\n",
    "for idx, row in observations_missing_state_name.iterrows(): # Iterate over observations missing a state name\n",
    "    if (counter % 1000) == 0: # Report time every 1000 observations\n",
    "        print(f\"{counter}: {time.time()-start_time} seconds elapsed; {counter/len(observations_missing_state_name)*100}% Done\")\n",
    "    df.at[idx, \"State_name\"] = find_indian_state(row[\"Lat\"], row[\"Long\"], states_shapefile) # Add state name based on coordinates (if coordinates are reliable)\n",
    "    counter += 1\n",
    "# In case any states are labeled as a name inconsistent with our dataset\n",
    "df['State_name'] = df['State_name'].replace('Andaman and Nicobar', 'Andaman and Nicobar Islands') # Two names for Andaman and Nicobar Islands\n",
    "df['State_name'] = df['State_name'].replace('NCT of Delhi', 'Delhi') # Two names for Delhi\n",
    "print(f\"Finished in {time.time()-start_time} seconds\") \n"
   ]
  },
  {
   "cell_type": "markdown",
   "id": "60d18c6e",
   "metadata": {},
   "source": [
    "# Labeling NA Values"
   ]
  },
  {
   "cell_type": "markdown",
   "id": "2ae6c330-dff7-4009-8263-e84bfa2296cf",
   "metadata": {},
   "source": [
    "### Validation Label 2"
   ]
  },
  {
   "cell_type": "code",
   "execution_count": null,
   "id": "7e449bb1",
   "metadata": {},
   "outputs": [],
   "source": [
    "# Drop observations with Null/NaN/None values and label those rows with 2\n",
    "na_indices = df[df.isna().any(axis=1)].index # Finds Null/NaN/None values in citizen data\n",
    "val_df.loc[na_indices, 'validation_label'] = np.full(len(na_indices), 2) # 2 represents observations with Null/NaN/None values\n",
    "df = df.drop(df.columns[0], axis=1) # Drop the index column called \"Unnamed: 0\"\n",
    "df = df.replace(placeholder,None) # Turn 100.612 into None so these values will be dropped. These values were kept as temp so that they will not be detected by na_indices\n",
    "df = df.dropna(how='any') # Drop any observation with at least one NaN/Null/None value reported\n",
    "df = df.sort_values(by='Species_name') # Order data by species for organization"
   ]
  },
  {
   "cell_type": "code",
   "execution_count": null,
   "id": "07c7cd09",
   "metadata": {},
   "outputs": [],
   "source": [
    "# Reformats df to Year, Week formatting to match the reference data\n",
    "df[\"Date_of_observation\"] = pd.to_datetime(df[\"Date_of_observation\"], format='mixed') # Change Date_of_observation column to datetime format/datatype\n",
    "\n",
    "df[\"Year\"] = df[\"Date_of_observation\"].dt.isocalendar().year # Extract the year of each observation from the date column\n",
    "\n",
    "\"\"\"\n",
    "!!! Use the following instead if 52 weeks are wanted !!!\n",
    "df[\"Year\"] = df[\"Date_of_observation\"].dt.isocalendar().week\n",
    "Warning: 52nd week will only be 1 or 2 days depending on if it's a leap year or not\n",
    "\"\"\"\n",
    "\n",
    "# Weeks are 48 weeks instead of 52 because this follows the format of the reference data\n",
    "df[\"Week\"] = df[\"Date_of_observation\"].dt.dayofyear // (366/48+0.0000000000001) # Week durations vary between 7 or 8 days (~50% of weeks are 7 days long. ~50% of weeks are 8 days long)\n",
    "df[\"Week\"] = df[\"Week\"].astype(int) # Convert Week column from decimal to integer\n",
    "\n",
    "\"\"\"\n",
    "dt.dayofyear gives an index starting at 1, thus use 366 in equation for leap years\n",
    "Add 0.0000000000001 bias to 48 (number of weeeks) so week is in range [0,47] instead of [0,48]\n",
    "\"\"\""
   ]
  },
  {
   "cell_type": "markdown",
   "id": "8f9dafcc",
   "metadata": {},
   "source": [
    "# Anomaly Detection"
   ]
  },
  {
   "cell_type": "code",
   "execution_count": null,
   "id": "6edfd968",
   "metadata": {},
   "outputs": [],
   "source": [
    "def outlier_detection(df, num_trees=500): \n",
    "    \"\"\"\n",
    "    Helper function for anomaly_detection_overall. Gives indices of anomalous observations.\n",
    "\n",
    "    Args:\n",
    "        df (DataFrame): Observations spanning at least an entire year. Observations are preferably of the same species within the same state.\n",
    "        num_trees (int): Number of trees making up an isolation forest. Higher number of trees reduces variance but slows down training.\n",
    "    Returns:\n",
    "        invalid_indices (List(int)): Index values in citizen data associated with observations deemed outliers by an isolation forest (invalid).\n",
    "    \"\"\"\n",
    "    \n",
    "    df = df.drop([\"Date_of_observation\", \"Observation_ID\", \"User_id\", \"User_Tree_id\", \"State_name\", \"Species_name\", \"Year\"], axis=1) # Drop columns not used in training\n",
    "    \n",
    "    model = IsolationForest(n_estimators = num_trees, contamination = 0.08, verbose = 1, random_state = 42) # Generate isolation forest\n",
    "    # Note: Higher contamination score means more false positive outliers; Lower contamination score means more false negative outliers\n",
    "    \n",
    "    invalid_indices = []\n",
    "    \n",
    "    for week in df[\"Week\"].sort_values().unique(): # Iterate over each week\n",
    "        week_df = df[df[\"Week\"] == week] # Use only observations from the current week\n",
    "        week_df = week_df.drop(\"Week\", axis=1) # Drop week column because it is not used in training\n",
    "        \n",
    "        model.fit(week_df) # Train isolation forest on particular week\n",
    "        preds = model.predict(week_df) # Predict if each observation is an outlier\n",
    "        week_df[\"Predictions\"] = preds # Add prediction to observation data\n",
    "        \n",
    "        invalid_indices += list(week_df[week_df[\"Predictions\"] == -1].index) # Record indices of outliers from the given week\n",
    "    return invalid_indices "
   ]
  },
  {
   "cell_type": "code",
   "execution_count": null,
   "id": "4229edac",
   "metadata": {},
   "outputs": [],
   "source": [
    "def anomaly_detection_overall(df, min_observations_for_outlier_detection):\n",
    "    \"\"\"\n",
    "    Performs anomaly detection on entire dataset\n",
    "\n",
    "    Args:\n",
    "        df (DataFrame): All citizen data\n",
    "        min_observations_for_outlier_detection (int): Minimum number of observations in a subset of the data for anomaly detection to be performed\n",
    "    Returns:\n",
    "        invalid_indices (List(int)): Index values in citizen data associated with observations deemed outliers by isolation forests (invalid).\n",
    "    \"\"\"\n",
    "    start_time = time.time() # Time\n",
    "    invalid_indices = []\n",
    "    states = df[\"State_name\"].unique() # All states in dataset\n",
    "    for state in states: # Iterate over all states\n",
    "        print(f\"**********{state}**********\")\n",
    "        state_start_time = time.time() # Time\n",
    "        state_df = df[df[\"State_name\"] == state] # Only observations from the given state\n",
    "        years = state_df[\"Year\"].sort_values().unique() # All years data was recorded in the given state\n",
    "        for year in years: # Iterate over each year\n",
    "            print(f\"**********{year}**********\")\n",
    "            year_start_time = time.time() # Time\n",
    "            state_year_df = state_df[state_df[\"Year\"] == year] # Only observations in the given year from the given state\n",
    "            species_list = state_year_df[\"Species_name\"].unique() # All species in the given year from the given state\n",
    "            for species in species_list: # Iterate over each species\n",
    "                species_state_year_df = state_year_df[state_year_df[\"Species_name\"] == species] # Only observations of the given species in the given year from the given state\n",
    "                if len(species_state_year_df) > min_observations_for_outlier_detection: # Verifying there are enough observations for anomaly detection\n",
    "                    species_start_time = time.time() # Time\n",
    "                    outliers = outlier_detection(species_state_year_df) # Run outlier detection on observations\n",
    "                    invalid_indices += outliers # Record indices of outliers\n",
    "                    print(f\"{len(outliers)}/{len(species_state_year_df)} observations invalid in {species} in {year} in {state}\") # Outlier count\n",
    "                    print(f\"Finished {species} in {state} during {year} in {time.time()-species_start_time} seconds\") # Time\n",
    "            print(f\"Finished {state} during {year} in {time.time()-year_start_time} seconds\") # Time\n",
    "        print(f\"Finished {state} in {time.time()-state_start_time} seconds\") # Time\n",
    "    print(f\"{len(invalid_indices)}/{len(df)} observations invalid overall\") # Total outlier count\n",
    "    print(f\"Finished completely in {time.time()-start_time} seconds\") # Time\n",
    "    return invalid_indices"
   ]
  },
  {
   "cell_type": "markdown",
   "id": "b9458ca0-9476-40ad-b9aa-cbd6fb2b72b7",
   "metadata": {},
   "source": [
    "### Validation Label 3"
   ]
  },
  {
   "cell_type": "code",
   "execution_count": null,
   "id": "892b31d9",
   "metadata": {
    "scrolled": true
   },
   "outputs": [],
   "source": [
    "# Run anomaly detection on all citizen data and drop any anomalies\n",
    "invalid_indices = anomaly_detection_overall(df, 15*52) # Choose 15*52 as the min num of observations because it means there's an average of 15 observations per week\n",
    "val_df.loc[invalid_indices, 'validation_label'] = np.full(len(invalid_indices), 3) # 3 represents observations flagged as outliers by our anomaly detection system (isolation forests machine learning)\n",
    "df = df.drop(invalid_indices) # Drop observations deemed outliers"
   ]
  },
  {
   "cell_type": "markdown",
   "id": "b7729827-2449-475e-a514-cfb31f25e050",
   "metadata": {},
   "source": [
    "# Save Data Cleaning Labeled Citizen Data in One File"
   ]
  },
  {
   "cell_type": "code",
   "execution_count": null,
   "id": "3a887cea-c94a-41c4-b1ab-103d70ab6d27",
   "metadata": {},
   "outputs": [],
   "source": [
    "# Save raw citizen data labeled with validation labels\n",
    "val_df.to_csv('data_cleaning_labeled_alldata.csv', index=False)"
   ]
  },
  {
   "cell_type": "markdown",
   "id": "3ead4df5-e0c8-45d4-bfbd-92b66cc65c0d",
   "metadata": {},
   "source": [
    "## Key for `validation_label` Column\n",
    "\n",
    "| Label | Meaning |\n",
    "| :----: | :----- |\n",
    "| 0      | Kept    |\n",
    "| 1      | Dropped because a phenophase was incorrectly reported as being -2 |\n",
    "| 2      | Dropped because a phenophase had missing data (Null Values) |\n",
    "| 3      | Dropped because observation was flagged as anomalous |"
   ]
  }
 ],
 "metadata": {
  "kernelspec": {
   "display_name": "Python 3 (ipykernel)",
   "language": "python",
   "name": "python3"
  },
  "language_info": {
   "codemirror_mode": {
    "name": "ipython",
    "version": 3
   },
   "file_extension": ".py",
   "mimetype": "text/x-python",
   "name": "python",
   "nbconvert_exporter": "python",
   "pygments_lexer": "ipython3",
   "version": "3.12.2"
  }
 },
 "nbformat": 4,
 "nbformat_minor": 5
}
